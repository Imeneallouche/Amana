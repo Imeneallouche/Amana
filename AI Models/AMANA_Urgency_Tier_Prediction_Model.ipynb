{
  "nbformat": 4,
  "nbformat_minor": 0,
  "metadata": {
    "colab": {
      "provenance": [],
      "authorship_tag": "ABX9TyONwviRCSfWR3EEKi3Uw4KT",
      "include_colab_link": true
    },
    "kernelspec": {
      "name": "python3",
      "display_name": "Python 3"
    },
    "language_info": {
      "name": "python"
    }
  },
  "cells": [
    {
      "cell_type": "markdown",
      "metadata": {
        "id": "view-in-github",
        "colab_type": "text"
      },
      "source": [
        "<a href=\"https://colab.research.google.com/github/Imeneallouche/Amana/blob/main/AMANA_Urgency_Tier_Prediction_Model.ipynb\" target=\"_parent\"><img src=\"https://colab.research.google.com/assets/colab-badge.svg\" alt=\"Open In Colab\"/></a>"
      ]
    },
    {
      "cell_type": "markdown",
      "source": [
        "## **AMANA Urgency Tier Prediction Model**\n",
        "- AI-powered urgency classification for charitable missions\n",
        "- Combines deadline proximity, beneficiary vulnerability, and historical impact data\n",
        "\n",
        "## 1. Environment Setup\n",
        "\n",
        "1.   Élément de liste\n",
        "2.   Élément de liste\n",
        "\n",
        "\n",
        "Import required libraries and configure settings"
      ],
      "metadata": {
        "id": "tmeVhNeBbefi"
      }
    },
    {
      "cell_type": "code",
      "execution_count": 1,
      "metadata": {
        "id": "ZJ5_FfY8bXTv"
      },
      "outputs": [],
      "source": [
        "import pandas as pd\n",
        "import numpy as np\n",
        "from datetime import datetime\n",
        "from sklearn.preprocessing import MinMaxScaler\n",
        "from sklearn.ensemble import RandomForestClassifier\n",
        "import joblib"
      ]
    },
    {
      "cell_type": "code",
      "source": [
        "# Configuration\n",
        "np.random.seed(42)\n",
        "urgency_weights = {\n",
        "    'deadline': 0.4,\n",
        "    'vulnerability': 0.4,\n",
        "    'historical': 0.2\n",
        "}"
      ],
      "metadata": {
        "id": "STB-VIfOh3Eh"
      },
      "execution_count": null,
      "outputs": []
    },
    {
      "cell_type": "markdown",
      "source": [
        "## 2. Feature Engineering Pipeline"
      ],
      "metadata": {
        "id": "k1GxaA6Qh5dM"
      }
    },
    {
      "cell_type": "code",
      "source": [
        "class UrgencyCalculator:\n",
        "    def __init__(self, historical_data_path='historical_missions.csv'):\n",
        "        self.scaler = MinMaxScaler()\n",
        "        self.historical_df = pd.read_csv(historical_data_path)\n",
        "        self.load_historical_patterns()\n",
        "\n",
        "    def load_historical_patterns(self):\n",
        "        \"\"\"Analyze historical mission data patterns\"\"\"\n",
        "        self.historical_urgency = self.historical_df.groupby('category')['urgency'].mean().to_dict()\n",
        "\n",
        "    def calculate_deadline_score(self, deadline_date):\n",
        "        \"\"\"Calculate time sensitivity score (0-1 scale)\"\"\"\n",
        "        days_left = (deadline_date - datetime.now()).days\n",
        "        return max(0, 1 - days_left/30)  # 30-day max horizon\n",
        "\n",
        "    def calculate_vulnerability_score(self, beneficiaries):\n",
        "        \"\"\"Calculate composite vulnerability score\"\"\"\n",
        "        score = 0\n",
        "        # Medical needs multiplier\n",
        "        score += beneficiaries.get('medical_conditions', 0) * 1.2\n",
        "        # Food insecurity multiplier\n",
        "        score += beneficiaries.get('food_insecurity_days', 0) * 0.8\n",
        "        # Age vulnerability (children/elderly)\n",
        "        score += (beneficiaries.get('children', 0) +\n",
        "                 beneficiaries.get('elderly', 0)) * 1.0\n",
        "        return np.log1p(score)  # Logarithmic scaling\n",
        "\n",
        "    def calculate_historical_score(self, category):\n",
        "        \"\"\"Get historical urgency for mission category\"\"\"\n",
        "        return self.historical_df.get(category, 0.5)\n",
        "\n",
        "    def calculate_urgency(self, mission_data):\n",
        "        \"\"\"Main prediction method\"\"\"\n",
        "        # Calculate component scores\n",
        "        deadline_score = self.calculate_deadline_score(\n",
        "            mission_data['deadline'])\n",
        "        vulnerability_score = self.calculate_vulnerability_score(\n",
        "            mission_data['beneficiaries'])\n",
        "        historical_score = self.calculate_historical_score(\n",
        "            mission_data['category'])\n",
        "\n",
        "        # Combine scores with weights\n",
        "        composite_score = (\n",
        "            deadline_score * urgency_weights['deadline'] +\n",
        "            vulnerability_score * urgency_weights['vulnerability'] +\n",
        "            historical_score * urgency_weights['historical']\n",
        "        )\n",
        "\n",
        "        # Classify urgency tier\n",
        "        if composite_score >= 0.7:\n",
        "            return \"URGENT\"\n",
        "        elif composite_score >= 0.4:\n",
        "            return \"MODERATE\"\n",
        "        else:\n",
        "            return \"NON-URGENT\""
      ],
      "metadata": {
        "id": "5NZGI8XiiG2N"
      },
      "execution_count": null,
      "outputs": []
    },
    {
      "cell_type": "markdown",
      "source": [
        "## 3. Model Training\n",
        "Using historical data to train supplemental ML model"
      ],
      "metadata": {
        "id": "e81sI9MpiKp9"
      }
    },
    {
      "cell_type": "code",
      "source": [
        "def train_ml_model():\n",
        "    \"\"\"Train machine learning model on historical data\"\"\"\n",
        "    df = pd.read_csv('historical_missions.csv')\n",
        "\n",
        "    # Feature engineering\n",
        "    df['days_remaining'] = (pd.to_datetime(df['deadline']) -\n",
        "                           pd.Timestamp.now()).dt.days\n",
        "    df['vulnerability_score'] = np.log1p(df['medical_conditions']*1.2 +\n",
        "                                      df['food_days']*0.8)\n",
        "\n",
        "    X = df[['days_remaining', 'vulnerability_score', 'category_encoded']]\n",
        "    y = df['urgency_encoded']\n",
        "\n",
        "    model = RandomForestClassifier()\n",
        "    model.fit(X, y)\n",
        "\n",
        "    joblib.dump(model, 'urgency_classifier.pkl')\n",
        "    return model"
      ],
      "metadata": {
        "id": "DJU06XGXiNzH"
      },
      "execution_count": null,
      "outputs": []
    },
    {
      "cell_type": "markdown",
      "source": [
        "## 4. Production Inference\n",
        "Example usage with real mission data"
      ],
      "metadata": {
        "id": "xb6IGikbiS0-"
      }
    },
    {
      "cell_type": "code",
      "source": [
        "# Sample mission data\n",
        "mission_example = {\n",
        "    'deadline': datetime(2024, 4, 15),\n",
        "    'beneficiaries': {\n",
        "        'medical_conditions': 5,\n",
        "        'food_insecurity_days': 14,\n",
        "        'children': 8,\n",
        "        'elderly': 3\n",
        "    },\n",
        "    'category': 'medical'\n",
        "}\n",
        "\n",
        "# Initialize calculator\n",
        "calculator = UrgencyCalculator()\n",
        "\n",
        "# Get prediction\n",
        "urgency_tier = calculator.calculate_urgency(mission_example)\n",
        "print(f\"Predicted Urgency Tier: {urgency_tier}\")"
      ],
      "metadata": {
        "id": "nMkBNox_iY3Z"
      },
      "execution_count": null,
      "outputs": []
    },
    {
      "cell_type": "markdown",
      "source": [
        "## 5. Model Evaluation Metrics\n",
        "Validation against test dataset"
      ],
      "metadata": {
        "id": "c9dc2hz3ia66"
      }
    },
    {
      "cell_type": "code",
      "source": [
        "def evaluate_model():\n",
        "    test_df = pd.read_csv('test_missions.csv')\n",
        "    calculator = UrgencyCalculator()\n",
        "\n",
        "    results = []\n",
        "    for _, row in test_df.iterrows():\n",
        "        pred = calculator.calculate_urgency(row)\n",
        "        results.append(pred == row['true_urgency'])\n",
        "\n",
        "    accuracy = np.mean(results)\n",
        "    print(f\"Model Accuracy: {accuracy:.2%}\")\n",
        "    return accuracy"
      ],
      "metadata": {
        "id": "usieh-O6ihKi"
      },
      "execution_count": null,
      "outputs": []
    }
  ]
}